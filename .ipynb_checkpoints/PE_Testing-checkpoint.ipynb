{
 "cells": [
  {
   "cell_type": "code",
   "execution_count": 2,
   "metadata": {},
   "outputs": [],
   "source": [
    "import pandas as pd\n",
    "import numpy as np\n",
    "\n",
    "from sklearn.cluster import KMeans\n",
    "from sklearn.decomposition import PCA"
   ]
  },
  {
   "cell_type": "code",
   "execution_count": 3,
   "metadata": {},
   "outputs": [],
   "source": [
    "#dms_data =pd.read_csv(\"data/DMS_Alhambra_Voltage_2018_2019.csv\")\n",
    "#ems_data=pd.read_csv(\"data/EMS_Alhambra_Voltage_2018_2019.csv\")"
   ]
  },
  {
   "cell_type": "code",
   "execution_count": 127,
   "metadata": {},
   "outputs": [],
   "source": [
    "dms_np = np.genfromtxt(\"data/DMS_Alhambra_Voltage_2018_2019.csv\",delimiter=\",\")\n",
    "ems_np = np.genfromtxt(\"data/EMS_Alhambra_Voltage_2018_2019.csv\",delimiter=\",\")"
   ]
  },
  {
   "cell_type": "code",
   "execution_count": 128,
   "metadata": {},
   "outputs": [],
   "source": [
    "ems_data = ems_np[1:,2:]\n",
    "dms_data = dms_np[1:,2:]\n",
    "ems_mean =np.mean(ems_data, axis=1)\n",
    "dms_mean=np.mean(dms_data, axis=1)"
   ]
  },
  {
   "cell_type": "code",
   "execution_count": 129,
   "metadata": {
    "scrolled": true
   },
   "outputs": [],
   "source": [
    "#standardized data set: (x-mean)/std_dev\n",
    "\n",
    "ems_standard = (ems_data - ems_mean.reshape(-1,1))/np.std(ems_data,axis=1).reshape(-1,1)\n"
   ]
  },
  {
   "cell_type": "code",
   "execution_count": 144,
   "metadata": {
    "scrolled": true
   },
   "outputs": [
    {
     "name": "stderr",
     "output_type": "stream",
     "text": [
      "C:\\Users\\wangb2\\AppData\\Local\\Continuum\\anaconda3\\lib\\site-packages\\ipykernel_launcher.py:1: RuntimeWarning: invalid value encountered in true_divide\n",
      "  \"\"\"Entry point for launching an IPython kernel.\n"
     ]
    }
   ],
   "source": [
    "dms_standard = (dms_data - dms_mean.reshape(-1,1))/np.std(dms_data,axis=1).reshape(-1,1)"
   ]
  },
  {
   "cell_type": "code",
   "execution_count": 154,
   "metadata": {},
   "outputs": [
    {
     "name": "stderr",
     "output_type": "stream",
     "text": [
      "C:\\Users\\wangb2\\AppData\\Local\\Continuum\\anaconda3\\lib\\site-packages\\ipykernel_launcher.py:1: RuntimeWarning: invalid value encountered in less\n",
      "  \"\"\"Entry point for launching an IPython kernel.\n"
     ]
    },
    {
     "data": {
      "text/plain": [
       "array([-0.49623831, -0.1911905 , -0.43012176, ..., -0.17241395,\n",
       "       -0.26850884, -0.33897925])"
      ]
     },
     "execution_count": 154,
     "metadata": {},
     "output_type": "execute_result"
    }
   ],
   "source": [
    "dms_standard[dms_standard[:,]<0]"
   ]
  },
  {
   "cell_type": "code",
   "execution_count": 156,
   "metadata": {},
   "outputs": [
    {
     "data": {
      "text/plain": [
       "(array([9], dtype=int64), array([0], dtype=int64))"
      ]
     },
     "execution_count": 156,
     "metadata": {},
     "output_type": "execute_result"
    }
   ],
   "source": [
    "dms_std = np.std(dms_data,axis=1).reshape(-1,1)"
   ]
  },
  {
   "cell_type": "code",
   "execution_count": 158,
   "metadata": {},
   "outputs": [
    {
     "data": {
      "text/plain": [
       "array([0.])"
      ]
     },
     "execution_count": 158,
     "metadata": {},
     "output_type": "execute_result"
    }
   ],
   "source": [
    "dms_std[9]"
   ]
  },
  {
   "cell_type": "code",
   "execution_count": 131,
   "metadata": {},
   "outputs": [],
   "source": [
    "#normalize the data by maximum so it ranges from 0-1\n",
    "\n",
    "ems_norm = ems_data/np.max(ems_data, axis=1).reshape(-1,1)\n",
    "dms_norm = dms_data/np.max(dms_data,axis=1).reshape(-1,1)"
   ]
  },
  {
   "cell_type": "code",
   "execution_count": 109,
   "metadata": {},
   "outputs": [
    {
     "data": {
      "text/plain": [
       "array([1., 1., 1., ..., 1., 1., 1.])"
      ]
     },
     "execution_count": 109,
     "metadata": {},
     "output_type": "execute_result"
    }
   ],
   "source": [
    "#normalize the data by subtracting mean and dividing by std deviation."
   ]
  },
  {
   "cell_type": "code",
   "execution_count": 161,
   "metadata": {},
   "outputs": [
    {
     "data": {
      "text/plain": [
       "(34, 8760)"
      ]
     },
     "execution_count": 161,
     "metadata": {},
     "output_type": "execute_result"
    }
   ],
   "source": [
    "ems_norm.shape"
   ]
  },
  {
   "cell_type": "code",
   "execution_count": 162,
   "metadata": {},
   "outputs": [],
   "source": [
    "#################further process data into recordsx24x365 matrix to divide into roughly 2 week timeframes.\n",
    "ems_recs = ems_norm.shape[0]\n",
    "dms_recs = dms_norm.shape[0]\n",
    "\n",
    "ems_norm = ems_norm.reshape(ems_recs,24,365)\n",
    "dms_norm = dms_norm.reshape(dms_recs,24,365)"
   ]
  },
  {
   "cell_type": "code",
   "execution_count": 164,
   "metadata": {},
   "outputs": [
    {
     "data": {
      "text/plain": [
       "array([[[0.31605634, 0.30197183, 0.29633803, ..., 0.27549296,\n",
       "         0.27267606, 0.27943662],\n",
       "        [0.29690141, 0.3115493 , 0.36507042, ..., 0.34647887,\n",
       "         0.35549296, 0.37521127],\n",
       "        [0.37352113, 0.38253521, 0.40112676, ..., 0.3971831 ,\n",
       "         0.37971831, 0.38253521],\n",
       "        ...,\n",
       "        [0.37859155, 0.3971831 , 0.42704225, ..., 0.36450704,\n",
       "         0.37352113, 0.34760563],\n",
       "        [0.34760563, 0.34873239, 0.36169014, ..., 0.34197183,\n",
       "         0.4       , 0.41859155],\n",
       "        [0.41859155, 0.42253521, 0.41633803, ..., 0.42478873,\n",
       "         0.41577465, 0.38873239]],\n",
       "\n",
       "       [[0.30764774, 0.29316338, 0.29026651, ..., 0.26940904,\n",
       "         0.26709154, 0.27636153],\n",
       "        [0.29316338, 0.30764774, 0.36442642, ..., 0.34530707,\n",
       "         0.34994206, 0.37022016],\n",
       "        [0.37311703, 0.38238702, 0.40034762, ..., 0.39571263,\n",
       "         0.37949015, 0.38006952],\n",
       "        ...,\n",
       "        [0.36674392, 0.38528389, 0.42062572, ..., 0.34298957,\n",
       "         0.36616454, 0.34183082],\n",
       "        [0.3424102 , 0.34588644, 0.34646582, ..., 0.33082271,\n",
       "         0.3783314 , 0.39397451],\n",
       "        [0.39455388, 0.3986095 , 0.38644264, ..., 0.39918888,\n",
       "         0.39049826, 0.37079954]],\n",
       "\n",
       "       [[0.30732002, 0.29340593, 0.28977616, ..., 0.27162734,\n",
       "         0.27041742, 0.27767695],\n",
       "        [0.29582577, 0.31155475, 0.36842105, ..., 0.35450696,\n",
       "         0.35753176, 0.37991531],\n",
       "        [0.37991531, 0.38777979, 0.40653358, ..., 0.39806413,\n",
       "         0.38294011, 0.38052027],\n",
       "        ...,\n",
       "        [0.37931034, 0.39564428, 0.43254688, ..., 0.353902  ,\n",
       "         0.37144586, 0.34603751],\n",
       "        [0.35087719, 0.35208711, 0.353902  , ..., 0.3369631 ,\n",
       "         0.38777979, 0.40471869],\n",
       "        [0.40411373, 0.40592861, 0.40229885, ..., 0.41137326,\n",
       "         0.40108893, 0.3768905 ]],\n",
       "\n",
       "       ...,\n",
       "\n",
       "       [[0.97126437, 0.96982761, 0.97126437, ..., 0.97844828,\n",
       "         0.974138  , 0.97270113],\n",
       "        [0.96408046, 0.96120694, 0.96408046, ..., 0.96408046,\n",
       "         0.96408046, 0.96120694],\n",
       "        [0.96839085, 0.96408046, 0.96408046, ..., 0.96982761,\n",
       "         0.96551722, 0.96695409],\n",
       "        ...,\n",
       "        [0.96695409, 0.97701152, 0.96695409, ..., 0.96695409,\n",
       "         0.96695409, 0.96551722],\n",
       "        [0.96695409, 0.96839085, 0.96408046, ..., 0.9626437 ,\n",
       "         0.95833331, 0.96408046],\n",
       "        [0.96408046, 0.96551722, 0.97701152, ..., 0.974138  ,\n",
       "         0.97270113, 0.96982761]],\n",
       "\n",
       "       [[0.9739885 , 0.9739885 , 0.97543357, ..., 0.98410407,\n",
       "         0.9783237 , 0.97687863],\n",
       "        [0.9696532 , 0.96676307, 0.96820814, ..., 0.97109826,\n",
       "         0.9696532 , 0.96820814],\n",
       "        [0.9739885 , 0.9696532 , 0.97109826, ..., 0.97543357,\n",
       "         0.97109826, 0.97254344],\n",
       "        ...,\n",
       "        [0.97543357, 0.98554913, 0.9739885 , ..., 0.97109826,\n",
       "         0.97109826, 0.96531801],\n",
       "        [0.96531801, 0.96820814, 0.97254344, ..., 0.96676307,\n",
       "         0.96242777, 0.96820814],\n",
       "        [0.96820814, 0.9696532 , 0.97976887, ..., 0.97687863,\n",
       "         0.97543357, 0.9739885 ]],\n",
       "\n",
       "       [[0.96695409, 0.96695409, 0.96839085, ..., 0.97557476,\n",
       "         0.97126437, 0.96982761],\n",
       "        [0.96120694, 0.95833331, 0.95977018, ..., 0.95977018,\n",
       "         0.95833331, 0.95689655],\n",
       "        [0.9626437 , 0.95833331, 0.95977018, ..., 0.96982761,\n",
       "         0.96695409, 0.96839085],\n",
       "        ...,\n",
       "        [0.96551722, 0.97557476, 0.96408046, ..., 0.96551722,\n",
       "         0.96551722, 0.95833331],\n",
       "        [0.95689655, 0.95833331, 0.96551722, ..., 0.96120694,\n",
       "         0.95545979, 0.96120694],\n",
       "        [0.96120694, 0.9626437 , 0.974138  , ..., 0.97126437,\n",
       "         0.97126437, 0.96839085]]])"
      ]
     },
     "execution_count": 164,
     "metadata": {},
     "output_type": "execute_result"
    }
   ],
   "source": [
    "ems_norm"
   ]
  }
 ],
 "metadata": {
  "kernelspec": {
   "display_name": "Python 3",
   "language": "python",
   "name": "python3"
  },
  "language_info": {
   "codemirror_mode": {
    "name": "ipython",
    "version": 3
   },
   "file_extension": ".py",
   "mimetype": "text/x-python",
   "name": "python",
   "nbconvert_exporter": "python",
   "pygments_lexer": "ipython3",
   "version": "3.7.4"
  }
 },
 "nbformat": 4,
 "nbformat_minor": 2
}
