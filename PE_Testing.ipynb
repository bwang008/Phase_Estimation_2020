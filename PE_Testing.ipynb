{
 "cells": [
  {
   "cell_type": "code",
   "execution_count": 165,
   "metadata": {},
   "outputs": [],
   "source": [
    "import pandas as pd\n",
    "import numpy as np\n",
    "\n",
    "from sklearn.cluster import KMeans\n",
    "from sklearn.decomposition import PCA\n",
    "\n",
    "import seaborn as sns\n",
    "import matplotlib.pyplot as plt"
   ]
  },
  {
   "cell_type": "code",
   "execution_count": 3,
   "metadata": {},
   "outputs": [],
   "source": [
    "#dms_data =pd.read_csv(\"data/DMS_Alhambra_Voltage_2018_2019.csv\")\n",
    "#ems_data=pd.read_csv(\"data/EMS_Alhambra_Voltage_2018_2019.csv\")"
   ]
  },
  {
   "cell_type": "code",
   "execution_count": 127,
   "metadata": {},
   "outputs": [],
   "source": [
    "dms_np = np.genfromtxt(\"data/DMS_Alhambra_Voltage_2018_2019.csv\",delimiter=\",\")\n",
    "ems_np = np.genfromtxt(\"data/EMS_Alhambra_Voltage_2018_2019.csv\",delimiter=\",\")"
   ]
  },
  {
   "cell_type": "code",
   "execution_count": 128,
   "metadata": {},
   "outputs": [],
   "source": [
    "ems_data = ems_np[1:,2:]\n",
    "dms_data = dms_np[1:,2:]\n",
    "ems_mean =np.mean(ems_data, axis=1)\n",
    "dms_mean=np.mean(dms_data, axis=1)"
   ]
  },
  {
   "cell_type": "code",
   "execution_count": 129,
   "metadata": {
    "scrolled": true
   },
   "outputs": [],
   "source": [
    "#standardized data set: (x-mean)/std_dev\n",
    "\n",
    "ems_standard = (ems_data - ems_mean.reshape(-1,1))/np.std(ems_data,axis=1).reshape(-1,1)\n"
   ]
  },
  {
   "cell_type": "code",
   "execution_count": 144,
   "metadata": {
    "scrolled": true
   },
   "outputs": [
    {
     "name": "stderr",
     "output_type": "stream",
     "text": [
      "C:\\Users\\wangb2\\AppData\\Local\\Continuum\\anaconda3\\lib\\site-packages\\ipykernel_launcher.py:1: RuntimeWarning: invalid value encountered in true_divide\n",
      "  \"\"\"Entry point for launching an IPython kernel.\n"
     ]
    }
   ],
   "source": [
    "dms_standard = (dms_data - dms_mean.reshape(-1,1))/np.std(dms_data,axis=1).reshape(-1,1)"
   ]
  },
  {
   "cell_type": "code",
   "execution_count": 154,
   "metadata": {},
   "outputs": [
    {
     "name": "stderr",
     "output_type": "stream",
     "text": [
      "C:\\Users\\wangb2\\AppData\\Local\\Continuum\\anaconda3\\lib\\site-packages\\ipykernel_launcher.py:1: RuntimeWarning: invalid value encountered in less\n",
      "  \"\"\"Entry point for launching an IPython kernel.\n"
     ]
    },
    {
     "data": {
      "text/plain": [
       "array([-0.49623831, -0.1911905 , -0.43012176, ..., -0.17241395,\n",
       "       -0.26850884, -0.33897925])"
      ]
     },
     "execution_count": 154,
     "metadata": {},
     "output_type": "execute_result"
    }
   ],
   "source": [
    "dms_standard[dms_standard[:,]<0]"
   ]
  },
  {
   "cell_type": "code",
   "execution_count": 205,
   "metadata": {},
   "outputs": [],
   "source": [
    "#normalize the data by maximum so it ranges from 0-1\n",
    "\n",
    "ems_norm = ems_data/np.max(ems_data, axis=1).reshape(-1,1)\n",
    "dms_norm = dms_data/np.max(dms_data,axis=1).reshape(-1,1)"
   ]
  },
  {
   "cell_type": "code",
   "execution_count": 206,
   "metadata": {},
   "outputs": [],
   "source": [
    "ems_std = np.std(ems_norm, axis=1).reshape(-1,1)\n",
    "dms_std = np.std(dms_norm,axis=1).reshape(-1,1)"
   ]
  },
  {
   "cell_type": "code",
   "execution_count": 207,
   "metadata": {},
   "outputs": [
    {
     "name": "stdout",
     "output_type": "stream",
     "text": [
      "0.028112459596653483 0.4139577763175094 0.0 \n",
      " [[0.00893754]\n",
      " [0.00836477]\n",
      " [0.00860158]\n",
      " [0.00984144]\n",
      " [0.00908308]\n",
      " [0.00369944]\n",
      " [0.00890319]\n",
      " [0.00995909]\n",
      " [0.01071504]\n",
      " [0.        ]\n",
      " [0.00943136]\n",
      " [0.00961503]\n",
      " [0.00924808]\n",
      " [0.00821495]\n",
      " [0.00292437]\n",
      " [0.00979529]\n",
      " [0.0067854 ]\n",
      " [0.        ]\n",
      " [0.01366862]\n",
      " [0.00930871]\n",
      " [0.2743747 ]\n",
      " [0.00882748]\n",
      " [0.00869744]\n",
      " [0.00952025]\n",
      " [0.04030602]\n",
      " [0.00864117]\n",
      " [0.0040543 ]\n",
      " [0.00378468]\n",
      " [0.02285673]\n",
      " [0.00966257]\n",
      " [0.01040542]\n",
      " [0.00928961]\n",
      " [0.00969029]\n",
      " [0.00350994]\n",
      " [0.00952091]\n",
      " [0.00976353]\n",
      " [0.00972998]\n",
      " [0.04005784]\n",
      " [0.04081396]\n",
      " [0.01026226]\n",
      " [0.00984486]\n",
      " [0.00909865]\n",
      " [0.01006642]\n",
      " [0.00812672]\n",
      " [0.00843356]\n",
      " [0.00677946]\n",
      " [0.00855106]\n",
      " [0.0495843 ]\n",
      " [0.41395778]\n",
      " [0.00295202]\n",
      " [0.27344724]\n",
      " [0.00894828]\n",
      " [0.01079114]\n",
      " [0.03526563]\n",
      " [0.00875247]\n",
      " [0.00883208]] \n",
      "\n",
      "0.05984342066475213 0.12401304319085116 0.006453644707016182 \n",
      " [[0.11780308]\n",
      " [0.11705999]\n",
      " [0.11911916]\n",
      " [0.12046961]\n",
      " [0.11718549]\n",
      " [0.11567561]\n",
      " [0.11568582]\n",
      " [0.11619746]\n",
      " [0.00853433]\n",
      " [0.00789599]\n",
      " [0.008319  ]\n",
      " [0.00925584]\n",
      " [0.00874582]\n",
      " [0.00875451]\n",
      " [0.11531465]\n",
      " [0.11228022]\n",
      " [0.12132669]\n",
      " [0.12401304]\n",
      " [0.11900052]\n",
      " [0.12194741]\n",
      " [0.12366078]\n",
      " [0.12182732]\n",
      " [0.00672066]\n",
      " [0.00735515]\n",
      " [0.00748732]\n",
      " [0.0071981 ]\n",
      " [0.00784655]\n",
      " [0.00799864]\n",
      " [0.00645364]\n",
      " [0.00652642]\n",
      " [0.00700949]\n",
      " [0.00645742]\n",
      " [0.006533  ]\n",
      " [0.00701755]] \n",
      "\n"
     ]
    }
   ],
   "source": [
    "print(np.mean(dms_std), np.max(dms_std), np.min(dms_std), \"\\n\",dms_std, \"\\n\")\n",
    "print(np.mean(ems_std), np.max(ems_std), np.min(ems_std), \"\\n\",ems_std, \"\\n\")"
   ]
  },
  {
   "cell_type": "code",
   "execution_count": 131,
   "metadata": {},
   "outputs": [],
   "source": []
  },
  {
   "cell_type": "code",
   "execution_count": 109,
   "metadata": {},
   "outputs": [
    {
     "data": {
      "text/plain": [
       "array([1., 1., 1., ..., 1., 1., 1.])"
      ]
     },
     "execution_count": 109,
     "metadata": {},
     "output_type": "execute_result"
    }
   ],
   "source": [
    "#normalize the data by subtracting mean and dividing by std deviation."
   ]
  },
  {
   "cell_type": "code",
   "execution_count": 161,
   "metadata": {},
   "outputs": [
    {
     "data": {
      "text/plain": [
       "(34, 8760)"
      ]
     },
     "execution_count": 161,
     "metadata": {},
     "output_type": "execute_result"
    }
   ],
   "source": [
    "ems_norm.shape"
   ]
  },
  {
   "cell_type": "code",
   "execution_count": 170,
   "metadata": {},
   "outputs": [],
   "source": [
    "#################further process data into recordsx24x365 matrix to divide into roughly 2 week timeframes.\n",
    "ems_recs = ems_norm.shape[0]\n",
    "dms_recs = dms_norm.shape[0]\n",
    "\n",
    "#ems_norm = ems_norm.reshape(ems_recs,8760)\n",
    "#dms_norm = dms_norm.reshape(dms_recs,8760)"
   ]
  },
  {
   "cell_type": "code",
   "execution_count": 168,
   "metadata": {},
   "outputs": [],
   "source": [
    "pca=PCA(n_components=24)"
   ]
  },
  {
   "cell_type": "code",
   "execution_count": 172,
   "metadata": {},
   "outputs": [
    {
     "data": {
      "text/plain": [
       "PCA(copy=True, iterated_power='auto', n_components=24, random_state=None,\n",
       "    svd_solver='auto', tol=0.0, whiten=False)"
      ]
     },
     "execution_count": 172,
     "metadata": {},
     "output_type": "execute_result"
    }
   ],
   "source": [
    "pca.fit(ems_norm)"
   ]
  },
  {
   "cell_type": "code",
   "execution_count": 175,
   "metadata": {
    "scrolled": true
   },
   "outputs": [
    {
     "name": "stdout",
     "output_type": "stream",
     "text": [
      "[1.72075873e+02 7.78583615e+00 4.62150710e+00 3.66348774e+00\n",
      " 2.22905017e+00 1.91376568e+00 1.44084677e+00 1.20643348e+00\n",
      " 1.08778769e+00 9.85189033e-01 7.96335441e-01 5.93493065e-01\n",
      " 5.48445639e-01 4.76934967e-01 4.40768934e-01 3.77221601e-01\n",
      " 3.39195477e-01 2.92025298e-01 2.42026704e-01 2.11733776e-01\n",
      " 1.57010869e-01 1.36168029e-01 6.00304665e-02 4.91890851e-02]\n"
     ]
    }
   ],
   "source": [
    "#print(pca.explained_variance_ratio_)\n",
    "print(pca.singular_values_)"
   ]
  },
  {
   "cell_type": "code",
   "execution_count": 177,
   "metadata": {},
   "outputs": [
    {
     "data": {
      "text/plain": [
       "(34, 24)"
      ]
     },
     "execution_count": 177,
     "metadata": {},
     "output_type": "execute_result"
    }
   ],
   "source": [
    "ems_pca = pca.transform(ems_norm)\n",
    "ems_pca.shape"
   ]
  },
  {
   "cell_type": "code",
   "execution_count": 186,
   "metadata": {},
   "outputs": [],
   "source": [
    "kmeans=KMeans(n_clusters=12, random_state=10).fit(ems_pca)"
   ]
  },
  {
   "cell_type": "code",
   "execution_count": 189,
   "metadata": {},
   "outputs": [
    {
     "data": {
      "text/plain": [
       "array([[ 3],\n",
       "       [ 3],\n",
       "       [ 3],\n",
       "       [ 3],\n",
       "       [ 1],\n",
       "       [ 1],\n",
       "       [ 1],\n",
       "       [ 1],\n",
       "       [ 0],\n",
       "       [ 0],\n",
       "       [ 0],\n",
       "       [ 0],\n",
       "       [ 0],\n",
       "       [ 0],\n",
       "       [ 9],\n",
       "       [ 4],\n",
       "       [ 6],\n",
       "       [10],\n",
       "       [11],\n",
       "       [ 2],\n",
       "       [ 8],\n",
       "       [ 5],\n",
       "       [ 7],\n",
       "       [ 7],\n",
       "       [ 7],\n",
       "       [ 7],\n",
       "       [ 7],\n",
       "       [ 7],\n",
       "       [ 7],\n",
       "       [ 7],\n",
       "       [ 7],\n",
       "       [ 7],\n",
       "       [ 7],\n",
       "       [ 7]])"
      ]
     },
     "execution_count": 189,
     "metadata": {},
     "output_type": "execute_result"
    }
   ],
   "source": [
    "kmeans.labels_.reshape(-1,1)"
   ]
  },
  {
   "cell_type": "code",
   "execution_count": 188,
   "metadata": {},
   "outputs": [
    {
     "name": "stdout",
     "output_type": "stream",
     "text": [
      "-4.65208703821736\n"
     ]
    }
   ],
   "source": [
    "print(kmeans.score(ems_pca))"
   ]
  },
  {
   "cell_type": "code",
   "execution_count": 193,
   "metadata": {},
   "outputs": [],
   "source": [
    "dpca=PCA(n_components=24)\n",
    "dpca.fit(dms_norm)\n",
    "dms_pca = dpca.transform(dms_norm)"
   ]
  },
  {
   "cell_type": "code",
   "execution_count": 195,
   "metadata": {},
   "outputs": [
    {
     "name": "stdout",
     "output_type": "stream",
     "text": [
      "[[ 5]\n",
      " [ 5]\n",
      " [ 5]\n",
      " [ 5]\n",
      " [ 5]\n",
      " [ 6]\n",
      " [ 5]\n",
      " [ 5]\n",
      " [ 5]\n",
      " [ 6]\n",
      " [ 5]\n",
      " [ 5]\n",
      " [ 5]\n",
      " [11]\n",
      " [ 6]\n",
      " [ 5]\n",
      " [ 5]\n",
      " [ 6]\n",
      " [ 5]\n",
      " [ 5]\n",
      " [ 3]\n",
      " [ 5]\n",
      " [ 5]\n",
      " [ 5]\n",
      " [ 0]\n",
      " [ 5]\n",
      " [ 6]\n",
      " [ 6]\n",
      " [10]\n",
      " [ 5]\n",
      " [ 7]\n",
      " [ 5]\n",
      " [ 5]\n",
      " [11]\n",
      " [ 5]\n",
      " [ 5]\n",
      " [ 5]\n",
      " [ 0]\n",
      " [ 1]\n",
      " [ 5]\n",
      " [ 5]\n",
      " [ 6]\n",
      " [ 5]\n",
      " [ 5]\n",
      " [ 5]\n",
      " [ 5]\n",
      " [ 5]\n",
      " [ 8]\n",
      " [ 2]\n",
      " [ 5]\n",
      " [ 4]\n",
      " [ 5]\n",
      " [ 5]\n",
      " [ 9]\n",
      " [ 5]\n",
      " [ 5]]\n"
     ]
    }
   ],
   "source": [
    "dkmeans=KMeans(n_clusters=12, random_state=10).fit(dms_pca)\n",
    "print(dkmeans.labels_.reshape(-1,1))"
   ]
  },
  {
   "cell_type": "code",
   "execution_count": null,
   "metadata": {},
   "outputs": [],
   "source": []
  }
 ],
 "metadata": {
  "kernelspec": {
   "display_name": "Python 3",
   "language": "python",
   "name": "python3"
  },
  "language_info": {
   "codemirror_mode": {
    "name": "ipython",
    "version": 3
   },
   "file_extension": ".py",
   "mimetype": "text/x-python",
   "name": "python",
   "nbconvert_exporter": "python",
   "pygments_lexer": "ipython3",
   "version": "3.7.4"
  }
 },
 "nbformat": 4,
 "nbformat_minor": 2
}
